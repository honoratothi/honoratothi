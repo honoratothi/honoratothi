{
  "cells": [
    {
      "cell_type": "markdown",
      "metadata": {
        "id": "view-in-github",
        "colab_type": "text"
      },
      "source": [
        "<a href=\"https://colab.research.google.com/github/honoratothi/honoratothi/blob/main/spark_dados_receita.ipynb\" target=\"_parent\"><img src=\"https://colab.research.google.com/assets/colab-badge.svg\" alt=\"Open In Colab\"/></a>"
      ]
    },
    {
      "cell_type": "code",
      "execution_count": 1,
      "metadata": {
        "id": "bhHKUSJX7zxX"
      },
      "outputs": [],
      "source": [
        "!pip install pyspark --quiet\n"
      ]
    },
    {
      "cell_type": "code",
      "execution_count": 2,
      "metadata": {
        "id": "uaGuh9VM73sJ"
      },
      "outputs": [],
      "source": [
        "!apt-get install openjdk-8-jdk-headless -qq > /dev/null\n",
        "!wget -q https://dlcdn.apache.org/spark/spark-3.5.3/spark-3.5.3-bin-hadoop3.tgz\n",
        "!tar xf spark-3.5.3-bin-hadoop3.tgz\n",
        "!pip install -q findspark"
      ]
    },
    {
      "cell_type": "code",
      "source": [
        "# prompt: montar o google drive como unidade\n",
        "\n",
        "from google.colab import drive\n",
        "drive.mount('/content/drive')\n"
      ],
      "metadata": {
        "colab": {
          "base_uri": "https://localhost:8080/"
        },
        "id": "54_JFd9Mryuo",
        "outputId": "b47faad6-56d0-411f-e82d-fa00289b1ef9"
      },
      "execution_count": 3,
      "outputs": [
        {
          "output_type": "stream",
          "name": "stdout",
          "text": [
            "Drive already mounted at /content/drive; to attempt to forcibly remount, call drive.mount(\"/content/drive\", force_remount=True).\n"
          ]
        }
      ]
    },
    {
      "cell_type": "code",
      "execution_count": 4,
      "metadata": {
        "id": "GykLlwkW8oh_"
      },
      "outputs": [],
      "source": [
        "import os\n",
        "os.environ['JAVA_HOME'] = '/usr/lib/jvm/java-8-openjdk-amd64'\n",
        "os.environ['SPARK_HOME'] = '/content/spark-3.5.3-bin-hadoop3'\n",
        "\n",
        "import findspark\n",
        "findspark.init()"
      ]
    },
    {
      "cell_type": "code",
      "execution_count": 5,
      "metadata": {
        "id": "dI1OI3lQ5_xm"
      },
      "outputs": [],
      "source": [
        "from pyspark.sql import SparkSession\n",
        "spark = SparkSession.builder.getOrCreate()\n",
        "#      .config('spark.jars', 'https://github.com/GoogleCloudDataproc/spark-bigquery-connector/releases/download/0.41.0/spark-3.5-bigquery-0.41.0.jar')\\"
      ]
    },
    {
      "cell_type": "markdown",
      "metadata": {
        "id": "6t1F3LptMtA-"
      },
      "source": [
        "[Diretório arquivos cnpj receita federal](https://dadosabertos.rfb.gov.br/CNPJ/dados_abertos_cnpj/2024-09/)\n",
        "\n",
        "[Portal de dados abertos receita federal do Brasil](https://dados.gov.br/dados/conjuntos-dados/cadastro-nacional-da-pessoa-juridica---cnpj)"
      ]
    },
    {
      "cell_type": "code",
      "execution_count": 6,
      "metadata": {
        "id": "npb6oHP0FEfx"
      },
      "outputs": [],
      "source": [
        "import pandas as pd\n",
        "\n",
        "url = 'https://dadosabertos.rfb.gov.br/CNPJ/dados_abertos_cnpj/2024-09/'\n",
        "\n",
        "df = pd.read_html(url)\n",
        "df = df[0][['Name', 'Last modified', 'Size']]\n",
        "df.dropna(inplace=True)\n",
        "df.reset_index(drop=True, inplace=True)\n",
        "df.sort_values(by='Name', ascending=False, inplace=True)\n",
        "df.reset_index(drop=True, inplace=True)"
      ]
    },
    {
      "cell_type": "code",
      "execution_count": 7,
      "metadata": {
        "id": "JyWBB-uY3LAX"
      },
      "outputs": [],
      "source": [
        "lista_arquivos = df['Name'].tolist()\n",
        "download_dir = '/content/drive/MyDrive/dados_receita'"
      ]
    },
    {
      "cell_type": "code",
      "execution_count": 8,
      "metadata": {
        "id": "J2nlWYkgJtXx",
        "colab": {
          "base_uri": "https://localhost:8080/"
        },
        "outputId": "23fd4502-9b06-4587-b87c-709683925dda"
      },
      "outputs": [
        {
          "output_type": "stream",
          "name": "stdout",
          "text": [
            "mkdir: cannot create directory ‘/content/drive/MyDrive/dados_receita’: File exists\n"
          ]
        }
      ],
      "source": [
        "!mkdir /content/drive/MyDrive/dados_receita"
      ]
    },
    {
      "cell_type": "code",
      "source": [
        "baixar_arquivos, extrair_arquivos = False, False"
      ],
      "metadata": {
        "id": "XHZIYob8Mkqu"
      },
      "execution_count": 33,
      "outputs": []
    },
    {
      "cell_type": "code",
      "execution_count": 34,
      "metadata": {
        "id": "6AaVvVsbJfRI"
      },
      "outputs": [],
      "source": [
        "import urllib.request\n",
        "\n",
        "if baixar_arquivos:\n",
        "\n",
        "  for file_name in lista_arquivos:\n",
        "    if file_name.endswith('.zip'):\n",
        "      file_url = url + file_name\n",
        "      file_dest = f'{download_dir}/{file_name}'\n",
        "      try:\n",
        "        urllib.request.urlretrieve(file_url, file_dest)\n",
        "        print(f\"Downloaded: {file_name}\")\n",
        "      except Exception as e:\n",
        "        print(f\"Error downloading {file_name}: {e}\")\n"
      ]
    },
    {
      "cell_type": "code",
      "source": [
        "extract_dir = f'{download_dir}/extracao'"
      ],
      "metadata": {
        "id": "KIvaVdCbAgru"
      },
      "execution_count": 10,
      "outputs": []
    },
    {
      "cell_type": "code",
      "execution_count": null,
      "metadata": {
        "id": "WAg8GQgr4qct"
      },
      "outputs": [],
      "source": [
        "import zipfile\n",
        "\n",
        "arquivos_locais = os.listdir(download_dir)\n",
        "\n",
        "if extrair_arquivos:\n",
        "  for arquivo in arquivos_locais:\n",
        "      if arquivo.endswith('.zip'):\n",
        "          caminho_completo = os.path.join(download_dir, arquivo)\n",
        "          with zipfile.ZipFile(caminho_completo, 'r') as zip_ref:\n",
        "              zip_ref.extractall(extract_dir)"
      ]
    },
    {
      "cell_type": "markdown",
      "metadata": {
        "id": "Kv0RvbcwMOy7"
      },
      "source": [
        "\n",
        "\n",
        "[Dicionário de dados](https://www.gov.br/receitafederal/dados/cnpj-metadados.pdf)"
      ]
    },
    {
      "cell_type": "code",
      "source": [
        "# prompt: importar arquivo dicionario de dados .xlsx da pasta download_dir e listar todas as abas deste arquivo gerando um dicionário onde a chave será o nome da planilha e o valor será um dataframe spark com o conteúdo da planilha\n",
        "\n",
        "import pandas as pd\n",
        "\n",
        "dicionario_dfs = {}\n",
        "\n",
        "for arquivo in os.listdir(download_dir):\n",
        "  if arquivo.endswith('dados_receita_metadados.xlsx'):\n",
        "    caminho_completo = os.path.join(download_dir, arquivo)\n",
        "    xls = pd.ExcelFile(caminho_completo)\n",
        "    for sheet_name in xls.sheet_names:\n",
        "      df_pandas = pd.read_excel(caminho_completo, sheet_name=sheet_name)\n",
        "      df_spark = spark.createDataFrame(df_pandas)\n",
        "      dicionario_dfs[sheet_name] = df_spark"
      ],
      "metadata": {
        "id": "uSK0rtQ1GYjt"
      },
      "execution_count": 11,
      "outputs": []
    },
    {
      "cell_type": "markdown",
      "source": [],
      "metadata": {
        "id": "9bu1OGQlI_5c"
      }
    },
    {
      "cell_type": "code",
      "source": [
        "mapa_dicionario = {'CNAES': 'cnae',\n",
        " 'EMPRESAS': 'empre',\n",
        " 'ESTABELECIMENTOS': 'estab',\n",
        " 'MOTIVOS':'moti',\n",
        " 'MUNICIPIOS': 'munic',\n",
        " 'NATUREZA_JURIDICA': 'natju',\n",
        " 'PAISES': 'pais',\n",
        " 'SIMPLES': 'simpl',\n",
        " 'SOCIOS': 'socio',\n",
        " 'SOCIOS_QUALIFICACAO': 'qual'}"
      ],
      "metadata": {
        "id": "FcVD0eeuOgTI"
      },
      "execution_count": 12,
      "outputs": []
    },
    {
      "cell_type": "code",
      "source": [
        "# prompt: criar uma nova coluna em arquivos_sem_tar_gz, o valor desta coluna será a chave em mapa_dicionário quando o valor for encontrado na coluna extensao do dataframe\n",
        "\n",
        "def get_key_from_value(value, dictionary):\n",
        "  value= value.lower()\n",
        "  for key, val in dictionary.items():\n",
        "    if value.find(val) > 0:\n",
        "      return key\n",
        "  return None"
      ],
      "metadata": {
        "id": "_9EO261zrcHn"
      },
      "execution_count": 13,
      "outputs": []
    },
    {
      "cell_type": "code",
      "source": [
        "# prompt: vamos listar os arquivos da pasta download_dir que terminem não terminem com  .tar.gz usando gloob, o código deve encontrar arquivos tanto usando miúsculas como minúsculas\n",
        "\n",
        "import glob\n",
        "\n",
        "arquivos_sem_tar_gz = glob.glob(extract_dir + '/*', recursive=True)\n",
        "arquivos_sem_tar_gz = [arquivo for arquivo in arquivos_sem_tar_gz if not arquivo.lower().endswith('.zip')]\n",
        "\n",
        "arquivos_sem_tar_gz = pd.DataFrame(arquivos_sem_tar_gz, columns=['arquivo'])\n",
        "arquivos_sem_tar_gz['extensao'] = arquivos_sem_tar_gz['arquivo'].str.split('/').str[-1]\n",
        "arquivos_sem_tar_gz['tipo_arquivo'] = arquivos_sem_tar_gz['extensao'].apply(lambda x: get_key_from_value(x, mapa_dicionario))\n",
        "arquivos_sem_tar_gz.sample(10)\n"
      ],
      "metadata": {
        "colab": {
          "base_uri": "https://localhost:8080/",
          "height": 363
        },
        "id": "H3wh50wAHoCL",
        "outputId": "bdde3503-c161-4d17-aa30-27bbed2855d5"
      },
      "execution_count": 14,
      "outputs": [
        {
          "output_type": "execute_result",
          "data": {
            "text/plain": [
              "                                              arquivo  \\\n",
              "31  /content/drive/MyDrive/dados_receita/extracao/...   \n",
              "33  /content/drive/MyDrive/dados_receita/extracao/...   \n",
              "27  /content/drive/MyDrive/dados_receita/extracao/...   \n",
              "7   /content/drive/MyDrive/dados_receita/extracao/...   \n",
              "2   /content/drive/MyDrive/dados_receita/extracao/...   \n",
              "29  /content/drive/MyDrive/dados_receita/extracao/...   \n",
              "19  /content/drive/MyDrive/dados_receita/extracao/...   \n",
              "9   /content/drive/MyDrive/dados_receita/extracao/...   \n",
              "16  /content/drive/MyDrive/dados_receita/extracao/...   \n",
              "8   /content/drive/MyDrive/dados_receita/extracao/...   \n",
              "\n",
              "                          extensao      tipo_arquivo  \n",
              "31  K3241.K03200Y4.D40914.EMPRECSV          EMPRESAS  \n",
              "33  K3241.K03200Y2.D40914.EMPRECSV          EMPRESAS  \n",
              "27  K3241.K03200Y8.D40914.EMPRECSV          EMPRESAS  \n",
              "7   K3241.K03200Y2.D40914.SOCIOCSV            SOCIOS  \n",
              "2   K3241.K03200Y7.D40914.SOCIOCSV            SOCIOS  \n",
              "29  K3241.K03200Y6.D40914.EMPRECSV          EMPRESAS  \n",
              "19  K3241.K03200Y6.D40914.ESTABELE  ESTABELECIMENTOS  \n",
              "9   K3241.K03200Y0.D40914.SOCIOCSV            SOCIOS  \n",
              "16  K3241.K03200Y9.D40914.ESTABELE  ESTABELECIMENTOS  \n",
              "8   K3241.K03200Y1.D40914.SOCIOCSV            SOCIOS  "
            ],
            "text/html": [
              "\n",
              "  <div id=\"df-7140ccb1-016d-4c76-9812-89fd10548888\" class=\"colab-df-container\">\n",
              "    <div>\n",
              "<style scoped>\n",
              "    .dataframe tbody tr th:only-of-type {\n",
              "        vertical-align: middle;\n",
              "    }\n",
              "\n",
              "    .dataframe tbody tr th {\n",
              "        vertical-align: top;\n",
              "    }\n",
              "\n",
              "    .dataframe thead th {\n",
              "        text-align: right;\n",
              "    }\n",
              "</style>\n",
              "<table border=\"1\" class=\"dataframe\">\n",
              "  <thead>\n",
              "    <tr style=\"text-align: right;\">\n",
              "      <th></th>\n",
              "      <th>arquivo</th>\n",
              "      <th>extensao</th>\n",
              "      <th>tipo_arquivo</th>\n",
              "    </tr>\n",
              "  </thead>\n",
              "  <tbody>\n",
              "    <tr>\n",
              "      <th>31</th>\n",
              "      <td>/content/drive/MyDrive/dados_receita/extracao/...</td>\n",
              "      <td>K3241.K03200Y4.D40914.EMPRECSV</td>\n",
              "      <td>EMPRESAS</td>\n",
              "    </tr>\n",
              "    <tr>\n",
              "      <th>33</th>\n",
              "      <td>/content/drive/MyDrive/dados_receita/extracao/...</td>\n",
              "      <td>K3241.K03200Y2.D40914.EMPRECSV</td>\n",
              "      <td>EMPRESAS</td>\n",
              "    </tr>\n",
              "    <tr>\n",
              "      <th>27</th>\n",
              "      <td>/content/drive/MyDrive/dados_receita/extracao/...</td>\n",
              "      <td>K3241.K03200Y8.D40914.EMPRECSV</td>\n",
              "      <td>EMPRESAS</td>\n",
              "    </tr>\n",
              "    <tr>\n",
              "      <th>7</th>\n",
              "      <td>/content/drive/MyDrive/dados_receita/extracao/...</td>\n",
              "      <td>K3241.K03200Y2.D40914.SOCIOCSV</td>\n",
              "      <td>SOCIOS</td>\n",
              "    </tr>\n",
              "    <tr>\n",
              "      <th>2</th>\n",
              "      <td>/content/drive/MyDrive/dados_receita/extracao/...</td>\n",
              "      <td>K3241.K03200Y7.D40914.SOCIOCSV</td>\n",
              "      <td>SOCIOS</td>\n",
              "    </tr>\n",
              "    <tr>\n",
              "      <th>29</th>\n",
              "      <td>/content/drive/MyDrive/dados_receita/extracao/...</td>\n",
              "      <td>K3241.K03200Y6.D40914.EMPRECSV</td>\n",
              "      <td>EMPRESAS</td>\n",
              "    </tr>\n",
              "    <tr>\n",
              "      <th>19</th>\n",
              "      <td>/content/drive/MyDrive/dados_receita/extracao/...</td>\n",
              "      <td>K3241.K03200Y6.D40914.ESTABELE</td>\n",
              "      <td>ESTABELECIMENTOS</td>\n",
              "    </tr>\n",
              "    <tr>\n",
              "      <th>9</th>\n",
              "      <td>/content/drive/MyDrive/dados_receita/extracao/...</td>\n",
              "      <td>K3241.K03200Y0.D40914.SOCIOCSV</td>\n",
              "      <td>SOCIOS</td>\n",
              "    </tr>\n",
              "    <tr>\n",
              "      <th>16</th>\n",
              "      <td>/content/drive/MyDrive/dados_receita/extracao/...</td>\n",
              "      <td>K3241.K03200Y9.D40914.ESTABELE</td>\n",
              "      <td>ESTABELECIMENTOS</td>\n",
              "    </tr>\n",
              "    <tr>\n",
              "      <th>8</th>\n",
              "      <td>/content/drive/MyDrive/dados_receita/extracao/...</td>\n",
              "      <td>K3241.K03200Y1.D40914.SOCIOCSV</td>\n",
              "      <td>SOCIOS</td>\n",
              "    </tr>\n",
              "  </tbody>\n",
              "</table>\n",
              "</div>\n",
              "    <div class=\"colab-df-buttons\">\n",
              "\n",
              "  <div class=\"colab-df-container\">\n",
              "    <button class=\"colab-df-convert\" onclick=\"convertToInteractive('df-7140ccb1-016d-4c76-9812-89fd10548888')\"\n",
              "            title=\"Convert this dataframe to an interactive table.\"\n",
              "            style=\"display:none;\">\n",
              "\n",
              "  <svg xmlns=\"http://www.w3.org/2000/svg\" height=\"24px\" viewBox=\"0 -960 960 960\">\n",
              "    <path d=\"M120-120v-720h720v720H120Zm60-500h600v-160H180v160Zm220 220h160v-160H400v160Zm0 220h160v-160H400v160ZM180-400h160v-160H180v160Zm440 0h160v-160H620v160ZM180-180h160v-160H180v160Zm440 0h160v-160H620v160Z\"/>\n",
              "  </svg>\n",
              "    </button>\n",
              "\n",
              "  <style>\n",
              "    .colab-df-container {\n",
              "      display:flex;\n",
              "      gap: 12px;\n",
              "    }\n",
              "\n",
              "    .colab-df-convert {\n",
              "      background-color: #E8F0FE;\n",
              "      border: none;\n",
              "      border-radius: 50%;\n",
              "      cursor: pointer;\n",
              "      display: none;\n",
              "      fill: #1967D2;\n",
              "      height: 32px;\n",
              "      padding: 0 0 0 0;\n",
              "      width: 32px;\n",
              "    }\n",
              "\n",
              "    .colab-df-convert:hover {\n",
              "      background-color: #E2EBFA;\n",
              "      box-shadow: 0px 1px 2px rgba(60, 64, 67, 0.3), 0px 1px 3px 1px rgba(60, 64, 67, 0.15);\n",
              "      fill: #174EA6;\n",
              "    }\n",
              "\n",
              "    .colab-df-buttons div {\n",
              "      margin-bottom: 4px;\n",
              "    }\n",
              "\n",
              "    [theme=dark] .colab-df-convert {\n",
              "      background-color: #3B4455;\n",
              "      fill: #D2E3FC;\n",
              "    }\n",
              "\n",
              "    [theme=dark] .colab-df-convert:hover {\n",
              "      background-color: #434B5C;\n",
              "      box-shadow: 0px 1px 3px 1px rgba(0, 0, 0, 0.15);\n",
              "      filter: drop-shadow(0px 1px 2px rgba(0, 0, 0, 0.3));\n",
              "      fill: #FFFFFF;\n",
              "    }\n",
              "  </style>\n",
              "\n",
              "    <script>\n",
              "      const buttonEl =\n",
              "        document.querySelector('#df-7140ccb1-016d-4c76-9812-89fd10548888 button.colab-df-convert');\n",
              "      buttonEl.style.display =\n",
              "        google.colab.kernel.accessAllowed ? 'block' : 'none';\n",
              "\n",
              "      async function convertToInteractive(key) {\n",
              "        const element = document.querySelector('#df-7140ccb1-016d-4c76-9812-89fd10548888');\n",
              "        const dataTable =\n",
              "          await google.colab.kernel.invokeFunction('convertToInteractive',\n",
              "                                                    [key], {});\n",
              "        if (!dataTable) return;\n",
              "\n",
              "        const docLinkHtml = 'Like what you see? Visit the ' +\n",
              "          '<a target=\"_blank\" href=https://colab.research.google.com/notebooks/data_table.ipynb>data table notebook</a>'\n",
              "          + ' to learn more about interactive tables.';\n",
              "        element.innerHTML = '';\n",
              "        dataTable['output_type'] = 'display_data';\n",
              "        await google.colab.output.renderOutput(dataTable, element);\n",
              "        const docLink = document.createElement('div');\n",
              "        docLink.innerHTML = docLinkHtml;\n",
              "        element.appendChild(docLink);\n",
              "      }\n",
              "    </script>\n",
              "  </div>\n",
              "\n",
              "\n",
              "<div id=\"df-b6fced67-9032-4aaf-b853-578ba37fbb58\">\n",
              "  <button class=\"colab-df-quickchart\" onclick=\"quickchart('df-b6fced67-9032-4aaf-b853-578ba37fbb58')\"\n",
              "            title=\"Suggest charts\"\n",
              "            style=\"display:none;\">\n",
              "\n",
              "<svg xmlns=\"http://www.w3.org/2000/svg\" height=\"24px\"viewBox=\"0 0 24 24\"\n",
              "     width=\"24px\">\n",
              "    <g>\n",
              "        <path d=\"M19 3H5c-1.1 0-2 .9-2 2v14c0 1.1.9 2 2 2h14c1.1 0 2-.9 2-2V5c0-1.1-.9-2-2-2zM9 17H7v-7h2v7zm4 0h-2V7h2v10zm4 0h-2v-4h2v4z\"/>\n",
              "    </g>\n",
              "</svg>\n",
              "  </button>\n",
              "\n",
              "<style>\n",
              "  .colab-df-quickchart {\n",
              "      --bg-color: #E8F0FE;\n",
              "      --fill-color: #1967D2;\n",
              "      --hover-bg-color: #E2EBFA;\n",
              "      --hover-fill-color: #174EA6;\n",
              "      --disabled-fill-color: #AAA;\n",
              "      --disabled-bg-color: #DDD;\n",
              "  }\n",
              "\n",
              "  [theme=dark] .colab-df-quickchart {\n",
              "      --bg-color: #3B4455;\n",
              "      --fill-color: #D2E3FC;\n",
              "      --hover-bg-color: #434B5C;\n",
              "      --hover-fill-color: #FFFFFF;\n",
              "      --disabled-bg-color: #3B4455;\n",
              "      --disabled-fill-color: #666;\n",
              "  }\n",
              "\n",
              "  .colab-df-quickchart {\n",
              "    background-color: var(--bg-color);\n",
              "    border: none;\n",
              "    border-radius: 50%;\n",
              "    cursor: pointer;\n",
              "    display: none;\n",
              "    fill: var(--fill-color);\n",
              "    height: 32px;\n",
              "    padding: 0;\n",
              "    width: 32px;\n",
              "  }\n",
              "\n",
              "  .colab-df-quickchart:hover {\n",
              "    background-color: var(--hover-bg-color);\n",
              "    box-shadow: 0 1px 2px rgba(60, 64, 67, 0.3), 0 1px 3px 1px rgba(60, 64, 67, 0.15);\n",
              "    fill: var(--button-hover-fill-color);\n",
              "  }\n",
              "\n",
              "  .colab-df-quickchart-complete:disabled,\n",
              "  .colab-df-quickchart-complete:disabled:hover {\n",
              "    background-color: var(--disabled-bg-color);\n",
              "    fill: var(--disabled-fill-color);\n",
              "    box-shadow: none;\n",
              "  }\n",
              "\n",
              "  .colab-df-spinner {\n",
              "    border: 2px solid var(--fill-color);\n",
              "    border-color: transparent;\n",
              "    border-bottom-color: var(--fill-color);\n",
              "    animation:\n",
              "      spin 1s steps(1) infinite;\n",
              "  }\n",
              "\n",
              "  @keyframes spin {\n",
              "    0% {\n",
              "      border-color: transparent;\n",
              "      border-bottom-color: var(--fill-color);\n",
              "      border-left-color: var(--fill-color);\n",
              "    }\n",
              "    20% {\n",
              "      border-color: transparent;\n",
              "      border-left-color: var(--fill-color);\n",
              "      border-top-color: var(--fill-color);\n",
              "    }\n",
              "    30% {\n",
              "      border-color: transparent;\n",
              "      border-left-color: var(--fill-color);\n",
              "      border-top-color: var(--fill-color);\n",
              "      border-right-color: var(--fill-color);\n",
              "    }\n",
              "    40% {\n",
              "      border-color: transparent;\n",
              "      border-right-color: var(--fill-color);\n",
              "      border-top-color: var(--fill-color);\n",
              "    }\n",
              "    60% {\n",
              "      border-color: transparent;\n",
              "      border-right-color: var(--fill-color);\n",
              "    }\n",
              "    80% {\n",
              "      border-color: transparent;\n",
              "      border-right-color: var(--fill-color);\n",
              "      border-bottom-color: var(--fill-color);\n",
              "    }\n",
              "    90% {\n",
              "      border-color: transparent;\n",
              "      border-bottom-color: var(--fill-color);\n",
              "    }\n",
              "  }\n",
              "</style>\n",
              "\n",
              "  <script>\n",
              "    async function quickchart(key) {\n",
              "      const quickchartButtonEl =\n",
              "        document.querySelector('#' + key + ' button');\n",
              "      quickchartButtonEl.disabled = true;  // To prevent multiple clicks.\n",
              "      quickchartButtonEl.classList.add('colab-df-spinner');\n",
              "      try {\n",
              "        const charts = await google.colab.kernel.invokeFunction(\n",
              "            'suggestCharts', [key], {});\n",
              "      } catch (error) {\n",
              "        console.error('Error during call to suggestCharts:', error);\n",
              "      }\n",
              "      quickchartButtonEl.classList.remove('colab-df-spinner');\n",
              "      quickchartButtonEl.classList.add('colab-df-quickchart-complete');\n",
              "    }\n",
              "    (() => {\n",
              "      let quickchartButtonEl =\n",
              "        document.querySelector('#df-b6fced67-9032-4aaf-b853-578ba37fbb58 button');\n",
              "      quickchartButtonEl.style.display =\n",
              "        google.colab.kernel.accessAllowed ? 'block' : 'none';\n",
              "    })();\n",
              "  </script>\n",
              "</div>\n",
              "\n",
              "    </div>\n",
              "  </div>\n"
            ],
            "application/vnd.google.colaboratory.intrinsic+json": {
              "type": "dataframe",
              "summary": "{\n  \"name\": \"arquivos_sem_tar_gz\",\n  \"rows\": 10,\n  \"fields\": [\n    {\n      \"column\": \"arquivo\",\n      \"properties\": {\n        \"dtype\": \"string\",\n        \"num_unique_values\": 10,\n        \"samples\": [\n          \"/content/drive/MyDrive/dados_receita/extracao/K3241.K03200Y9.D40914.ESTABELE\",\n          \"/content/drive/MyDrive/dados_receita/extracao/K3241.K03200Y2.D40914.EMPRECSV\",\n          \"/content/drive/MyDrive/dados_receita/extracao/K3241.K03200Y6.D40914.EMPRECSV\"\n        ],\n        \"semantic_type\": \"\",\n        \"description\": \"\"\n      }\n    },\n    {\n      \"column\": \"extensao\",\n      \"properties\": {\n        \"dtype\": \"string\",\n        \"num_unique_values\": 10,\n        \"samples\": [\n          \"K3241.K03200Y9.D40914.ESTABELE\",\n          \"K3241.K03200Y2.D40914.EMPRECSV\",\n          \"K3241.K03200Y6.D40914.EMPRECSV\"\n        ],\n        \"semantic_type\": \"\",\n        \"description\": \"\"\n      }\n    },\n    {\n      \"column\": \"tipo_arquivo\",\n      \"properties\": {\n        \"dtype\": \"category\",\n        \"num_unique_values\": 3,\n        \"samples\": [\n          \"EMPRESAS\",\n          \"SOCIOS\",\n          \"ESTABELECIMENTOS\"\n        ],\n        \"semantic_type\": \"\",\n        \"description\": \"\"\n      }\n    }\n  ]\n}"
            }
          },
          "metadata": {},
          "execution_count": 14
        }
      ]
    },
    {
      "cell_type": "markdown",
      "source": [
        "[arquivos drive](https://drive.google.com/drive/folders/1ZOzxKhRb4sT531NJYCip_jttvTF_EEoj?usp=drive_link)"
      ],
      "metadata": {
        "id": "GEOt-ginBWqc"
      }
    },
    {
      "cell_type": "code",
      "source": [
        "from datetime import datetime"
      ],
      "metadata": {
        "id": "_CAA4G_qBV9P"
      },
      "execution_count": 23,
      "outputs": []
    },
    {
      "cell_type": "code",
      "execution_count": 31,
      "metadata": {
        "colab": {
          "base_uri": "https://localhost:8080/"
        },
        "id": "9C9Lvcqe3yGc",
        "outputId": "048a9593-f84e-4ce0-a9c2-ba72c12cb905"
      },
      "outputs": [
        {
          "output_type": "stream",
          "name": "stdout",
          "text": [
            "CNAES cnae\n",
            "1359\n",
            "EMPRESAS empre\n",
            "59616973\n",
            "ESTABELECIMENTOS estab\n",
            "62634863\n",
            "MOTIVOS moti\n",
            "61\n",
            "MUNICIPIOS munic\n",
            "5571\n",
            "NATUREZA_JURIDICA natju\n",
            "90\n",
            "PAISES pais\n",
            "255\n",
            "SIMPLES simpl\n",
            "40459179\n",
            "SOCIOS socio\n",
            "24683401\n",
            "SOCIOS_QUALIFICACAO qual\n",
            "68\n",
            "0:09:13.143204\n",
            "               arquivo  quantidade\n",
            "0                CNAES        1359\n",
            "1             EMPRESAS    59616973\n",
            "2     ESTABELECIMENTOS    62634863\n",
            "3              MOTIVOS          61\n",
            "4           MUNICIPIOS        5571\n",
            "5    NATUREZA_JURIDICA          90\n",
            "6               PAISES         255\n",
            "7              SIMPLES    40459179\n",
            "8               SOCIOS    24683401\n",
            "9  SOCIOS_QUALIFICACAO          68\n"
          ]
        }
      ],
      "source": [
        "df_spark = pd.DataFrame()\n",
        "inicio = datetime.now()\n",
        "\n",
        "for item, valor in mapa_dicionario.items():\n",
        "  print(item, valor)\n",
        "  df_dados = spark.read.option('header', 'false').option('delimiter', ';').csv(f'{extract_dir}/*{valor.upper()}*')\n",
        "  df_dados = df_dados.withColumnRenamed('_c0', 'cnpj')\n",
        "  df_parcial = pd.DataFrame({'arquivo': [item], 'quantidade': [df_dados.count()]})\n",
        "  df_spark = pd.concat([df_spark, df_parcial], ignore_index=True)\n",
        "  print(df_dados.count())\n",
        "\n",
        "duracao = datetime.now() - inicio\n",
        "print(duracao)\n",
        "print(df_spark)"
      ]
    },
    {
      "cell_type": "code",
      "source": [
        "inicio = datetime.now()\n",
        "\n",
        "lista_estabelecimentos = arquivos_sem_tar_gz['arquivo'].to_list()\n",
        "df_saida = pd.DataFrame(columns=['arquivo', 'quantidade'])\n",
        "\n",
        "for item in lista_estabelecimentos:\n",
        "  with pd.read_csv(item, sep=';', dtype=str, encoding='ISO-8859-1', header=None,\n",
        "                   chunksize=5000000) as reader:\n",
        "    for df in reader:\n",
        "      df = pd.DataFrame({'arquivo': [item], 'quantidade': [df.shape[0]]})\n",
        "      df_saida = pd.concat([df_saida, df], ignore_index=True)\n",
        "      print(df)\n",
        "\n",
        "duracao = datetime.now() - inicio\n",
        "\n",
        "df_saida['quantidade'].sum()\n",
        "print(duracao)"
      ],
      "metadata": {
        "colab": {
          "base_uri": "https://localhost:8080/"
        },
        "id": "U9i8kaoJ5unj",
        "outputId": "70e4bffe-8de6-472b-e0ed-957f62c83c65"
      },
      "execution_count": 32,
      "outputs": [
        {
          "output_type": "stream",
          "name": "stdout",
          "text": [
            "                                             arquivo  quantidade\n",
            "0  /content/drive/MyDrive/dados_receita/extracao/...     2019150\n",
            "                                             arquivo  quantidade\n",
            "0  /content/drive/MyDrive/dados_receita/extracao/...     2019150\n",
            "                                             arquivo  quantidade\n",
            "0  /content/drive/MyDrive/dados_receita/extracao/...     2019150\n",
            "                                             arquivo  quantidade\n",
            "0  /content/drive/MyDrive/dados_receita/extracao/...     2019150\n",
            "                                             arquivo  quantidade\n",
            "0  /content/drive/MyDrive/dados_receita/extracao/...     2019150\n",
            "                                             arquivo  quantidade\n",
            "0  /content/drive/MyDrive/dados_receita/extracao/...     2019150\n",
            "                                             arquivo  quantidade\n",
            "0  /content/drive/MyDrive/dados_receita/extracao/...     2019150\n",
            "                                             arquivo  quantidade\n",
            "0  /content/drive/MyDrive/dados_receita/extracao/...     2019150\n",
            "                                             arquivo  quantidade\n",
            "0  /content/drive/MyDrive/dados_receita/extracao/...     2019150\n",
            "                                             arquivo  quantidade\n",
            "0  /content/drive/MyDrive/dados_receita/extracao/...     5000000\n",
            "                                             arquivo  quantidade\n",
            "0  /content/drive/MyDrive/dados_receita/extracao/...     1511051\n",
            "                                             arquivo  quantidade\n",
            "0  /content/drive/MyDrive/dados_receita/extracao/...     5000000\n",
            "                                             arquivo  quantidade\n",
            "0  /content/drive/MyDrive/dados_receita/extracao/...     5000000\n",
            "                                             arquivo  quantidade\n",
            "0  /content/drive/MyDrive/dados_receita/extracao/...     5000000\n",
            "                                             arquivo  quantidade\n",
            "0  /content/drive/MyDrive/dados_receita/extracao/...     5000000\n",
            "                                             arquivo  quantidade\n",
            "0  /content/drive/MyDrive/dados_receita/extracao/...     5000000\n",
            "                                             arquivo  quantidade\n",
            "0  /content/drive/MyDrive/dados_receita/extracao/...     5000000\n",
            "                                             arquivo  quantidade\n",
            "0  /content/drive/MyDrive/dados_receita/extracao/...     5000000\n",
            "                                             arquivo  quantidade\n",
            "0  /content/drive/MyDrive/dados_receita/extracao/...     5000000\n",
            "                                             arquivo  quantidade\n",
            "0  /content/drive/MyDrive/dados_receita/extracao/...      459179\n",
            "                                             arquivo  quantidade\n",
            "0  /content/drive/MyDrive/dados_receita/extracao/...          68\n",
            "                                             arquivo  quantidade\n",
            "0  /content/drive/MyDrive/dados_receita/extracao/...         255\n",
            "                                             arquivo  quantidade\n",
            "0  /content/drive/MyDrive/dados_receita/extracao/...          90\n",
            "                                             arquivo  quantidade\n",
            "0  /content/drive/MyDrive/dados_receita/extracao/...        5571\n",
            "                                             arquivo  quantidade\n",
            "0  /content/drive/MyDrive/dados_receita/extracao/...          61\n",
            "                                             arquivo  quantidade\n",
            "0  /content/drive/MyDrive/dados_receita/extracao/...     4753435\n",
            "                                             arquivo  quantidade\n",
            "0  /content/drive/MyDrive/dados_receita/extracao/...     4753435\n",
            "                                             arquivo  quantidade\n",
            "0  /content/drive/MyDrive/dados_receita/extracao/...     4753435\n",
            "                                             arquivo  quantidade\n",
            "0  /content/drive/MyDrive/dados_receita/extracao/...     4753435\n",
            "                                             arquivo  quantidade\n",
            "0  /content/drive/MyDrive/dados_receita/extracao/...     4753435\n",
            "                                             arquivo  quantidade\n",
            "0  /content/drive/MyDrive/dados_receita/extracao/...     4753435\n",
            "                                             arquivo  quantidade\n",
            "0  /content/drive/MyDrive/dados_receita/extracao/...     4753435\n",
            "                                             arquivo  quantidade\n",
            "0  /content/drive/MyDrive/dados_receita/extracao/...     4753435\n",
            "                                             arquivo  quantidade\n",
            "0  /content/drive/MyDrive/dados_receita/extracao/...     4753435\n",
            "                                             arquivo  quantidade\n",
            "0  /content/drive/MyDrive/dados_receita/extracao/...     5000000\n",
            "                                             arquivo  quantidade\n",
            "0  /content/drive/MyDrive/dados_receita/extracao/...     5000000\n",
            "                                             arquivo  quantidade\n",
            "0  /content/drive/MyDrive/dados_receita/extracao/...     5000000\n",
            "                                             arquivo  quantidade\n",
            "0  /content/drive/MyDrive/dados_receita/extracao/...     4853948\n",
            "                                             arquivo  quantidade\n",
            "0  /content/drive/MyDrive/dados_receita/extracao/...     4494860\n",
            "                                             arquivo  quantidade\n",
            "0  /content/drive/MyDrive/dados_receita/extracao/...     4494860\n",
            "                                             arquivo  quantidade\n",
            "0  /content/drive/MyDrive/dados_receita/extracao/...     4494860\n",
            "                                             arquivo  quantidade\n",
            "0  /content/drive/MyDrive/dados_receita/extracao/...     4494860\n",
            "                                             arquivo  quantidade\n",
            "0  /content/drive/MyDrive/dados_receita/extracao/...     4494860\n",
            "                                             arquivo  quantidade\n",
            "0  /content/drive/MyDrive/dados_receita/extracao/...     4494860\n",
            "                                             arquivo  quantidade\n",
            "0  /content/drive/MyDrive/dados_receita/extracao/...     4494860\n",
            "                                             arquivo  quantidade\n",
            "0  /content/drive/MyDrive/dados_receita/extracao/...     4494860\n",
            "                                             arquivo  quantidade\n",
            "0  /content/drive/MyDrive/dados_receita/extracao/...     4494860\n",
            "                                             arquivo  quantidade\n",
            "0  /content/drive/MyDrive/dados_receita/extracao/...     5000000\n",
            "                                             arquivo  quantidade\n",
            "0  /content/drive/MyDrive/dados_receita/extracao/...     5000000\n",
            "                                             arquivo  quantidade\n",
            "0  /content/drive/MyDrive/dados_receita/extracao/...     5000000\n",
            "                                             arquivo  quantidade\n",
            "0  /content/drive/MyDrive/dados_receita/extracao/...     4163233\n",
            "                                             arquivo  quantidade\n",
            "0  /content/drive/MyDrive/dados_receita/extracao/...        1359\n",
            "0:13:36.940278\n"
          ]
        }
      ]
    }
  ],
  "metadata": {
    "colab": {
      "provenance": [],
      "include_colab_link": true
    },
    "kernelspec": {
      "display_name": "Python 3",
      "language": "python",
      "name": "python3"
    },
    "language_info": {
      "codemirror_mode": {
        "name": "ipython",
        "version": 3
      },
      "file_extension": ".py",
      "mimetype": "text/x-python",
      "name": "python",
      "nbconvert_exporter": "python",
      "pygments_lexer": "ipython3",
      "version": "3.8.6"
    }
  },
  "nbformat": 4,
  "nbformat_minor": 0
}